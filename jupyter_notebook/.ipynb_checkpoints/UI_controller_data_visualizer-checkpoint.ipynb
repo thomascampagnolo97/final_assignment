{
 "cells": [
  {
   "cell_type": "markdown",
   "id": "367a7331",
   "metadata": {
    "slideshow": {
     "slide_type": "-"
    }
   },
   "source": [
    "# Jupyter notebook assignment 3: ROS Mobile Robots Simulator \n",
    "------------\n",
    "Developer: Thomas Campagnolo (S5343274)\n",
    "\n",
    "Course: Research Track 2 (A.Y. 2021-22)\n",
    "\n",
    "MSc Robotics Engineering, University of Genoa.\n",
    "\n",
    "The notebook consists in interact with the simulation of the third assignment of the Research Track 1 course, which is able to:\n",
    "* switch to different modalities, and manage them;\n",
    "* plot the robot position, the laser scanner data and reached/non-reached targets.\n"
   ]
  },
  {
   "cell_type": "markdown",
   "id": "55e8a4a7",
   "metadata": {},
   "source": [
    "## Overview\n",
    "    \n",
    "The aim is to replace the old user interface using functions and widgets to give a better developed and more user friendly interface.\n",
    "\n",
    "Some new functionalities that the code must guarantee are:\n",
    "* use buttons for handling the different modalities;\n",
    "* plot the robot position and laser scan;\n",
    "* plot the number of reached and unreached targets."
   ]
  },
  {
   "cell_type": "markdown",
   "id": "c027a3e8",
   "metadata": {},
   "source": [
    "## How to run\n",
    "\n",
    "To run the program is essential to clone the whole directory, switch to the branch ```rt2_assignments``` and run the ROS simulation before launching the Jupyter notebook.\n",
    "\n",
    "To launch the simulation, it is sufficient to type the following command in the terminal:\n",
    "\n",
    "```roslaunch final_assignment rt2_assignment.launch```\n",
    "\n",
    "Once launched, be careful to control that the move_base package is running correctly, since it could happen that it won't work sometimes. If this happens, stop the simulation and launch it again.\n",
    "\n",
    "It is now time to launch the Jupyter notebook. To run it I recommend using the ```Restart & Run All``` command placed in the 'Kernel' menu since the notebook's cells should be run in order."
   ]
  },
  {
   "cell_type": "markdown",
   "id": "b3a54126",
   "metadata": {},
   "source": [
    "# Import\n",
    "\n",
    "Let's start the notebook by import all the libraries and define all the messages which are going to be needed in the project\n"
   ]
  },
  {
   "cell_type": "code",
   "execution_count": null,
   "id": "23d27b81",
   "metadata": {
    "ExecuteTime": {
     "end_time": "2023-02-10T14:56:53.719506Z",
     "start_time": "2023-02-10T14:56:52.925480Z"
    }
   },
   "outputs": [],
   "source": [
    "%matplotlib widget\n",
    "\n",
    "import ipywidgets as widgets\n",
    "import matplotlib as mpl\n",
    "import matplotlib.pyplot as plt\n",
    "\n",
    "\n",
    "# Libraries\n",
    "import rospy\n",
    "import time\n",
    "import os\n",
    "import tf\n",
    "import sys\n",
    "import actionlib\n",
    "import numpy as np\n",
    "# import jupyros as jr\n",
    "\n",
    "\n",
    "from IPython.display import clear_output\n",
    "from IPython.display import display\n",
    "from ipywidgets import Button, Layout, ButtonStyle, GridBox, VBox, HBox\n",
    "from ipywidgets import interact, interactive\n",
    "from matplotlib import pyplot as plt\n",
    "from matplotlib.animation import FuncAnimation\n",
    "from tf.transformations import quaternion_matrix\n",
    "\n",
    "\n",
    "# Messages\n",
    "from std_msgs.msg import String\n",
    "from geometry_msgs.msg import Twist, Vector3\n",
    "from nav_msgs.msg import Odometry\n",
    "from sensor_msgs.msg import LaserScan\n",
    "from std_msgs.msg import Float32, Int32\n",
    "\n",
    "#from jupyros import ros3d\n",
    "\n",
    "\n",
    "# Custom services\n",
    "from final_assignment.srv import GoalCoordinates\n",
    "from std_srvs.srv import Empty\n",
    "\n",
    "reached_points = []"
   ]
  },
  {
   "cell_type": "markdown",
   "id": "3714351e",
   "metadata": {
    "ExecuteTime": {
     "end_time": "2023-02-08T18:26:46.738013Z",
     "start_time": "2023-02-08T18:26:46.725449Z"
    }
   },
   "source": [
    "# Initialize ROS node\n",
    "\n",
    "The rospy.init_node function initializes the ROS node, and right after that a publisher for the cmd_vel topic is declared\n"
   ]
  },
  {
   "cell_type": "code",
   "execution_count": null,
   "id": "2251d082",
   "metadata": {
    "ExecuteTime": {
     "end_time": "2023-02-10T14:56:53.900816Z",
     "start_time": "2023-02-10T14:56:53.722579Z"
    }
   },
   "outputs": [],
   "source": [
    "rospy.init_node('user_interface_controller')\n",
    "\n",
    "# Velocity publisher\n",
    "\n",
    "# pub_vel = rospy.Publisher('cmd_vel',Twist, queue_size=10)\n"
   ]
  },
  {
   "cell_type": "markdown",
   "id": "9ebd8cf5",
   "metadata": {},
   "source": [
    "# User Interface\n",
    "\n",
    "In this part I display the widgets that are going to be used by the user to decide the driving modalities, in particular there are:\n",
    "* buttons to change modalities\n",
    "* buttons to control the robot while the manual mode is active\n",
    "* cells to acquire the target position"
   ]
  },
  {
   "cell_type": "code",
   "execution_count": null,
   "id": "3df37b32",
   "metadata": {
    "ExecuteTime": {
     "end_time": "2023-02-10T14:56:53.990301Z",
     "start_time": "2023-02-10T14:56:53.910442Z"
    }
   },
   "outputs": [],
   "source": [
    "b1 = Button(description = 'Autonomus Driving Experience',\n",
    "           layout = Layout(width = 'auto', align = \"center\", grid_area = 'b1'),\n",
    "           style = ButtonStyle(button_color = 'lightblue'))\n",
    "\n",
    "b2 = Button(description = 'Manual Driving Experience',\n",
    "           layout = Layout(width = 'auto', grid_area = 'b2'),\n",
    "           style = ButtonStyle(button_color = 'lightblue'))\n",
    "\n",
    "b3 = Button(description = 'Reset Robot Position',\n",
    "            layout = Layout(width = 'auto', grid_area = 'b3'),\n",
    "            style = ButtonStyle(button_color = 'lightblue'))\n",
    "\n",
    "b4 = Button(description = 'Close program',\n",
    "            layout = Layout(width = 'auto', grid_area = 'b4'),\n",
    "            button_style='danger')\n",
    "\n",
    "b5 = Button(description = 'Reset GUI',\n",
    "            layout = Layout(width = 'auto', grid_area = 'b5'),\n",
    "            button_style='warning')"
   ]
  },
  {
   "cell_type": "markdown",
   "id": "b11f5b46",
   "metadata": {},
   "source": [
    "## Widgets for Autonomous Driving Interface"
   ]
  },
  {
   "cell_type": "code",
   "execution_count": null,
   "id": "4486d6a1",
   "metadata": {
    "ExecuteTime": {
     "end_time": "2023-02-10T14:56:54.018545Z",
     "start_time": "2023-02-10T14:56:53.995355Z"
    }
   },
   "outputs": [],
   "source": [
    "\n",
    "# if we are in automoatic driving experience (new cell??)\n",
    "\n",
    "# boxes for entering the coordinate of the taget to reach\n",
    "x_goal = widgets.FloatText(\n",
    "                    value=-2.5,\n",
    "                    description='x: ',\n",
    "                    disabled=False\n",
    ")\n",
    "\n",
    "y_goal = widgets.FloatText(\n",
    "                    value=6.0,\n",
    "                    description='y: ',\n",
    "                    disabled=False\n",
    ")\n",
    "\n",
    "bstart = widgets.Button(description=\"Start\")\n",
    "bcanc  = widgets.Button(description=\"Back to Main GUI\")\n"
   ]
  },
  {
   "cell_type": "markdown",
   "id": "851f5f03",
   "metadata": {},
   "source": [
    "## Widgets for Manual Driving Interface"
   ]
  },
  {
   "cell_type": "code",
   "execution_count": null,
   "id": "058458d5",
   "metadata": {
    "ExecuteTime": {
     "end_time": "2023-02-10T14:56:54.055900Z",
     "start_time": "2023-02-10T14:56:54.023217Z"
    }
   },
   "outputs": [],
   "source": [
    "# if we are in manual driving experience (new cell??)\n",
    "slider_velocity = widgets.FloatSlider(value=1,\n",
    "                                   min=0, \n",
    "                                   max=3, \n",
    "                                   step=0.1, \n",
    "                                   description='Robot velocity: ',\n",
    "                                   disabled=False,\n",
    "                                   orientation='horizontal')\n",
    "\n",
    "#console buttons for robot control manual\n",
    "b_up = Button(description = 'UP',\n",
    "              layout = Layout(grid_area = 'b_UP'))\n",
    "\n",
    "b_left = Button(description = 'LEFT',\n",
    "                layout = Layout(grid_area = 'b_LEFT'))\n",
    "\n",
    "b_stop = Button(description = 'STOP',\n",
    "                layout = Layout(grid_area = 'b_STOP'))\n",
    "\n",
    "b_right = Button(description = 'RIGHT',\n",
    "            layout = Layout(grid_area = 'b_RIGHT'))\n",
    "\n",
    "b_down = Button(description = 'DOWN',\n",
    "                layout = Layout(grid_area = 'b_DOWN'))\n",
    "\n",
    "\n",
    "man_drive_key = GridBox(children=[b_up, b_left, b_stop, b_right, b_down],\n",
    "                        layout=Layout(width='50%', grid_template_rows='auto auto',\n",
    "                        grid_template_columns='33% 33% 33% 33%',\n",
    "                        grid_template_areas='''\n",
    "                                            \" . b_UP . \"\n",
    "                                            \"b_LEFT b_STOP b_RIGHT \"\n",
    "                                            \" . b_DOWN . \"\n",
    "                                            ''')\n",
    ")\n",
    "\n",
    "#checkbox widget for activate/deactivate the collision avoidance option during the manual navigation of the robot\n",
    "assistance = widgets.Checkbox(value=False,\n",
    "                               description='Assisted manual experience, collision avoidance',\n",
    "                               disabled=False,\n",
    "                               indent=False\n",
    ")"
   ]
  },
  {
   "cell_type": "markdown",
   "id": "9d37e281",
   "metadata": {},
   "source": [
    "# Robot Behavior\n",
    "\n",
    "In this part of the notebook the robot assumes the correct behavior according to the user choice. It is decided by clicking on the buttons displayed in the **user interface**.\n",
    "\n",
    "At the beginning the user can choose between the driving modalities.\n",
    "\n",
    "After that, other user interfaces are displayed according to the choice.\n"
   ]
  },
  {
   "cell_type": "code",
   "execution_count": null,
   "id": "f920a40b",
   "metadata": {
    "ExecuteTime": {
     "end_time": "2023-02-10T14:56:54.065832Z",
     "start_time": "2023-02-10T14:56:54.059053Z"
    }
   },
   "outputs": [],
   "source": [
    "def set_velocity(direction):\n",
    "    \n",
    "    # init = Vector3(0, 0, 0)\n",
    "    vel_msg = Twist()\n",
    "    \n",
    "    #different velocities for different input\n",
    "    if direction =='go_ahead':\n",
    "        vel_msg.linear.x = slider_velocity.value\n",
    "    \n",
    "    elif direction == 'go_back':\n",
    "        vel_msg.linear.x = -slider_velocity.value\n",
    "    \n",
    "    elif direction == 'turn_left':\n",
    "        vel_msg.angular.z = slider_velocity.value\n",
    "    \n",
    "    elif direction == 'turn_right':\n",
    "        vel_msg.angular.z = -slider_velocity.value\n",
    "        \n",
    "    elif direction == 'stop':\n",
    "        vel_msg.linear.x = 0\n",
    "        vel_msg.angular.z = 0\n",
    "    \n",
    "    #initialize the publisher to pubblic on topic remap_cmd_vel \n",
    "    pub_vel = rospy.Publisher('remap_cmd_vel',Twist, queue_size=100)\n",
    "    pub_vel.publish(vel_msg)"
   ]
  },
  {
   "cell_type": "code",
   "execution_count": null,
   "id": "520aeb26",
   "metadata": {
    "ExecuteTime": {
     "end_time": "2023-02-10T14:56:54.075415Z",
     "start_time": "2023-02-10T14:56:54.069157Z"
    }
   },
   "outputs": [],
   "source": [
    "def driving_console():\n",
    "    #interface to drive the robot with buttons\n",
    "    display(man_drive_key)\n",
    "    display(assistance)\n",
    "    display(bcanc)\n",
    "\n",
    "    b_up.on_click(go_ahead)\n",
    "    b_down.on_click(go_back)\n",
    "    b_left.on_click(turn_left)\n",
    "    b_right.on_click(turn_right)\n",
    "    b_stop.on_click(stop_move)\n",
    "   \n",
    "    assistance.observe(assistance_handler, names='value')\n",
    "    bcanc.on_click(on_button_clicked_canc)\n",
    "    #display the ros3d map\n",
    "    #display_map()"
   ]
  },
  {
   "cell_type": "code",
   "execution_count": null,
   "id": "82612d99",
   "metadata": {
    "ExecuteTime": {
     "end_time": "2023-02-10T14:56:54.100374Z",
     "start_time": "2023-02-10T14:56:54.078502Z"
    }
   },
   "outputs": [],
   "source": [
    "\n",
    "    \n",
    "#------------------------------------------------------------------callback functions for the events\n",
    "\n",
    "#back to menu button\n",
    "def on_button_clicked_canc(b):\n",
    "    clear_output()\n",
    "\n",
    "#modify the value of the ROS parameter for obstacle avoidance control\n",
    "def assistance_handler(b):\n",
    "    rospy.set_param(\"/collision_avoidance\", assistance.value)\n",
    "    \n",
    "#service call to set the new position to reach       \n",
    "def on_button_clicked_start(b):\n",
    "    with output:\n",
    "        rospy.wait_for_service('goal_coordinates')\n",
    "        new_pose = rospy.ServiceProxy('goal_coordinates', GoalCoordinates)\n",
    "        rt = new_pose(x_goal.value , y_goal.value)\n",
    "        if rt.return_ == 1:\n",
    "            print(\"Goal position reached!\")\n",
    "            reached_points.append('reached')\n",
    "        else:\n",
    "            print(\"Time out. Goal Position not reached!\")\n",
    "            reached_points.append('not reached')\n",
    "        display(bcanc)\n",
    "        bcanc.on_click(on_button_clicked_canc)\n",
    "         \n",
    "\n",
    "def autonomous_drive(b):\n",
    "    display(x_goal, y_goal, bstart, bcanc)\n",
    "    bstart.on_click(on_button_clicked_start)\n",
    "    bcanc.on_click(on_button_clicked_canc)\n",
    "\n",
    "def manual_drive(b):\n",
    "    display(slider_velocity)\n",
    "    driving_console()\n",
    "\n",
    "def reset_robot_position(b):\n",
    "    global reset_world\n",
    "    # Create a client to reset the simulation environment\n",
    "    rospy.wait_for_service('/gazebo/reset_world')\n",
    "    reset_world = rospy.ServiceProxy('/gazebo/reset_world', Empty)\n",
    "    reset_world()\n",
    "    print(\"Robot's position has been resetted, wait a second...\")\n",
    "    time.sleep(3)\n",
    "    clear_output()\n",
    "    \n",
    "def close_all(b):\n",
    "    nodes = os.popen(\"rosnode list\").readlines()\n",
    "    for i in range(len(nodes)):\n",
    "        nodes[i] = nodes[i].replace(\"\\n\",\"\")\n",
    "    for node in nodes:\n",
    "        os.system(\"rosnode kill \"+ node)\n",
    "    os.system(\"killall -9 rosmaster\")\n",
    "    clear_output()\n",
    "    \n",
    "def reset_gui(b):\n",
    "    print(\"Reset GUI, wait a second...\")\n",
    "    time.sleep(3)\n",
    "    clear_output()\n",
    "    \n",
    "#handle all the different console buttons and call the function to set the velocity \n",
    "def go_ahead(b):\n",
    "    set_velocity('go_ahead')\n",
    "def go_back(b):\n",
    "    set_velocity('go_back')\n",
    "def turn_left(b):\n",
    "    set_velocity('turn_left')\n",
    "def turn_right(b):\n",
    "    set_velocity('turn_right')\n",
    "def stop_move(b):\n",
    "    set_velocity('stop')\n",
    "\n",
    "    \n",
    "#listener for driving choice\n",
    "b1.on_click(autonomous_drive)\n",
    "b2.on_click(manual_drive)\n",
    "b3.on_click(reset_robot_position)\n",
    "b4.on_click(close_all)\n",
    "b5.on_click(reset_gui)\n",
    "#------------------------------------------------------------------\n",
    "\n",
    "\n"
   ]
  },
  {
   "cell_type": "markdown",
   "id": "6d236b6d",
   "metadata": {},
   "source": [
    "# Display UI"
   ]
  },
  {
   "cell_type": "markdown",
   "id": "d0caaae3",
   "metadata": {},
   "source": [
    "## Choose one of the following modalities: \n",
    "\n",
    "Goal has been canceled\n",
    "Robot's position has been resetted\n",
    "Manual Drive with NO Assistance\n",
    "Manual Drive with Assistance"
   ]
  },
  {
   "cell_type": "code",
   "execution_count": null,
   "id": "b2a19adb",
   "metadata": {
    "ExecuteTime": {
     "end_time": "2023-02-10T14:56:54.732114Z",
     "start_time": "2023-02-10T14:56:54.711359Z"
    }
   },
   "outputs": [],
   "source": [
    "print('Assignment 3: ROS Mobile Robots Simulator! \\n')\n",
    "print('Hello! Please select between the different modalities to decide the robot driving mode: ')\n",
    "\n",
    "main_gui = GridBox(children = [b1, b2, b3, b4, b5],\n",
    "                layout = Layout(\n",
    "                           width = '100%',\n",
    "                           grid_template_rows = 'auto auto auto',\n",
    "                           grid_template_columns = '33% 33% 33%',\n",
    "                           grid_template_areas = '''\n",
    "                                                \"b1 b2 b3\"\n",
    "                                                \". b5 b4\"\n",
    "                                                 ''')\n",
    ")\n",
    "\n",
    "\n",
    "#create an output cell\n",
    "output = widgets.Output()\n",
    "\n",
    "#display both button and output cell display main menu of the GUI\n",
    "display(main_gui, output)"
   ]
  }
 ],
 "metadata": {
  "hide_input": false,
  "kernelspec": {
   "display_name": "Python 3 (ipykernel)",
   "language": "python",
   "name": "python3"
  },
  "language_info": {
   "codemirror_mode": {
    "name": "ipython",
    "version": 3
   },
   "file_extension": ".py",
   "mimetype": "text/x-python",
   "name": "python",
   "nbconvert_exporter": "python",
   "pygments_lexer": "ipython3",
   "version": "3.8.10"
  },
  "toc": {
   "base_numbering": 1,
   "nav_menu": {},
   "number_sections": true,
   "sideBar": true,
   "skip_h1_title": false,
   "title_cell": "Table of Contents",
   "title_sidebar": "Contents",
   "toc_cell": false,
   "toc_position": {},
   "toc_section_display": true,
   "toc_window_display": false
  },
  "varInspector": {
   "cols": {
    "lenName": 16,
    "lenType": 16,
    "lenVar": 40
   },
   "kernels_config": {
    "python": {
     "delete_cmd_postfix": "",
     "delete_cmd_prefix": "del ",
     "library": "var_list.py",
     "varRefreshCmd": "print(var_dic_list())"
    },
    "r": {
     "delete_cmd_postfix": ") ",
     "delete_cmd_prefix": "rm(",
     "library": "var_list.r",
     "varRefreshCmd": "cat(var_dic_list()) "
    }
   },
   "types_to_exclude": [
    "module",
    "function",
    "builtin_function_or_method",
    "instance",
    "_Feature"
   ],
   "window_display": false
  }
 },
 "nbformat": 4,
 "nbformat_minor": 5
}
